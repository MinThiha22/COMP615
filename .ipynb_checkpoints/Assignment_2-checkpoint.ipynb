{
 "cells": [
  {
   "attachments": {},
   "cell_type": "markdown",
   "id": "fe555032",
   "metadata": {},
   "source": [
    "# <span style=\"color:navy; font-size:40px;\">Assignment 2</span>\n",
    "# Bank Marketing Dataset "
   ]
  },
  {
   "cell_type": "code",
   "execution_count": 92,
   "id": "fc74a5f3",
   "metadata": {},
   "outputs": [],
   "source": [
    "# Ignore warnings\n",
    "import warnings\n",
    "warnings.filterwarnings('ignore')\n",
    "\n",
    "# Tools for creating iterators for efficient looping\n",
    "import itertools\n",
    "\n",
    "# Numpy for numerical operations\n",
    "import numpy as np\n",
    "from numpy import mean, std\n",
    "\n",
    "# Pandas for data manipulation\n",
    "import pandas as pd\n",
    "\n",
    "# Scipy for statistical tests\n",
    "import scipy.stats as stats\n",
    "from scipy.stats import shapiro, normaltest\n",
    "\n",
    "# Matplotlib for plotting\n",
    "import matplotlib\n",
    "import matplotlib.pyplot as plt\n",
    "%matplotlib inline\n",
    "\n",
    "# Seaborn for enhanced data visualisation\n",
    "import seaborn as sns\n",
    "\n",
    "# IPython display utilities\n",
    "from IPython.display import Markdown, display\n",
    "\n",
    "# Category Encoders for encoding categorical variables\n",
    "import category_encoders as ce\n",
    "\n",
    "# Scikit-learn for machine learning tasks\n",
    "from sklearn.model_selection import train_test_split, KFold, StratifiedKFold  # Data splitting and cross-validation\n",
    "# Model evaluation metrics\n",
    "from sklearn.metrics import (\n",
    "    accuracy_score, precision_score, recall_score, auc, \n",
    "    roc_curve, confusion_matrix, ConfusionMatrixDisplay, \n",
    "    classification_report, roc_auc_score\n",
    ")\n",
    "from sklearn.preprocessing import StandardScaler, LabelEncoder  # Data preprocessing\n",
    "from sklearn.neighbors import KNeighborsClassifier  # K-Nearest Neighbors algorithm\n",
    "from sklearn.tree import export_text  # Export decision tree in text format\n",
    "from sklearn.neural_network import MLPClassifier  # Multi-layer Perceptron classifier\n",
    "\n",
    "# Mlxtend for additional plotting utilities\n",
    "from mlxtend.plotting import plot_decision_regions"
   ]
  },
  {
   "cell_type": "markdown",
   "id": "c296724c",
   "metadata": {},
   "source": [
    "# Part A (Predicting Bank Marketing Campaign Outcomes)"
   ]
  },
  {
   "cell_type": "markdown",
   "id": "b313591b",
   "metadata": {},
   "source": [
    "## Task 1: Exploratory Data Analysis (EDA)"
   ]
  },
  {
   "cell_type": "code",
   "execution_count": 93,
   "id": "2c21a627",
   "metadata": {},
   "outputs": [],
   "source": [
    "# Loading Marketing Bank Dataset\n",
    "mbd = pd.read_csv(\"bank.csv\")"
   ]
  },
  {
   "cell_type": "code",
   "execution_count": 94,
   "id": "63ee06c7",
   "metadata": {},
   "outputs": [
    {
     "data": {
      "text/markdown": [
       "### Dataset Display and Basic Information"
      ],
      "text/plain": [
       "<IPython.core.display.Markdown object>"
      ]
     },
     "metadata": {},
     "output_type": "display_data"
    },
    {
     "data": {
      "text/markdown": [
       "**---First Few Rows---**"
      ],
      "text/plain": [
       "<IPython.core.display.Markdown object>"
      ]
     },
     "metadata": {},
     "output_type": "display_data"
    },
    {
     "name": "stdout",
     "output_type": "stream",
     "text": [
      "  age;\"job\";\"marital\";\"education\";\"default\";\"balance\";\"housing\";\"loan\";\"contact\";\"day\";\"month\";\"duration\";\"campaign\";\"pdays\";\"previous\";\"poutcome\";\"y\"\n",
      "0  30;\"unemployed\";\"married\";\"primary\";\"no\";1787;...                                                                                                  \n",
      "1  33;\"services\";\"married\";\"secondary\";\"no\";4789;...                                                                                                  \n",
      "2  35;\"management\";\"single\";\"tertiary\";\"no\";1350;...                                                                                                  \n",
      "3  30;\"management\";\"married\";\"tertiary\";\"no\";1476...                                                                                                  \n",
      "4  59;\"blue-collar\";\"married\";\"secondary\";\"no\";0;...                                                                                                  \n"
     ]
    }
   ],
   "source": [
    "display(Markdown(\"### Dataset Display and Basic Information\"))\n",
    "\n",
    "display(Markdown(\"**---First Few Rows---**\"))\n",
    "print(mbd.head())"
   ]
  },
  {
   "cell_type": "code",
   "execution_count": 99,
   "id": "4472741e",
   "metadata": {},
   "outputs": [
    {
     "data": {
      "text/markdown": [
       "**---Dataset Basic Information---**"
      ],
      "text/plain": [
       "<IPython.core.display.Markdown object>"
      ]
     },
     "metadata": {},
     "output_type": "display_data"
    },
    {
     "name": "stdout",
     "output_type": "stream",
     "text": [
      "<class 'pandas.core.frame.DataFrame'>\n",
      "RangeIndex: 4521 entries, 0 to 4520\n",
      "Data columns (total 17 columns):\n",
      " #   Column              Non-Null Count  Dtype \n",
      "---  ------              --------------  ----- \n",
      " 0   age                 4521 non-null   int64 \n",
      " 1   job                 4521 non-null   object\n",
      " 2   marital             4521 non-null   object\n",
      " 3   education           4521 non-null   object\n",
      " 4   default             4521 non-null   object\n",
      " 5   balance             4521 non-null   int64 \n",
      " 6   housing             4521 non-null   object\n",
      " 7   loan                4521 non-null   object\n",
      " 8   contact             4521 non-null   object\n",
      " 9   day                 4521 non-null   int64 \n",
      " 10  month               4521 non-null   object\n",
      " 11  duration            4521 non-null   int64 \n",
      " 12  campaign            4521 non-null   int64 \n",
      " 13  pdays               4521 non-null   int64 \n",
      " 14  previous            4521 non-null   int64 \n",
      " 15  poutcome            4521 non-null   object\n",
      " 16  deposit permission  4521 non-null   object\n",
      "dtypes: int64(7), object(10)\n",
      "memory usage: 600.6+ KB\n",
      "None\n"
     ]
    }
   ],
   "source": [
    "# Reloading the dataset with the correct delimiter and quote character\n",
    "mbd = pd.read_csv(\"bank.csv\", delimiter=';', quotechar='\"')\n",
    "\n",
    "# Giving appropriate name to target class\n",
    "mbd.rename(columns={'y': 'deposit permission'}, inplace=True)\n",
    "\n",
    "display(Markdown(\"**---Dataset Basic Information---**\"))\n",
    "print(mbd.info())"
   ]
  },
  {
   "cell_type": "code",
   "execution_count": 100,
   "id": "7d9ef023",
   "metadata": {},
   "outputs": [
    {
     "data": {
      "text/markdown": [
       "**---Dataset Null Check---**"
      ],
      "text/plain": [
       "<IPython.core.display.Markdown object>"
      ]
     },
     "metadata": {},
     "output_type": "display_data"
    },
    {
     "name": "stdout",
     "output_type": "stream",
     "text": [
      "age                   0\n",
      "job                   0\n",
      "marital               0\n",
      "education             0\n",
      "default               0\n",
      "balance               0\n",
      "housing               0\n",
      "loan                  0\n",
      "contact               0\n",
      "day                   0\n",
      "month                 0\n",
      "duration              0\n",
      "campaign              0\n",
      "pdays                 0\n",
      "previous              0\n",
      "poutcome              0\n",
      "deposit permission    0\n",
      "dtype: int64\n"
     ]
    },
    {
     "data": {
      "text/markdown": [
       "**---Dataset Duplicates Check---**"
      ],
      "text/plain": [
       "<IPython.core.display.Markdown object>"
      ]
     },
     "metadata": {},
     "output_type": "display_data"
    },
    {
     "data": {
      "text/plain": [
       "0"
      ]
     },
     "execution_count": 100,
     "metadata": {},
     "output_type": "execute_result"
    }
   ],
   "source": [
    "display(Markdown(\"**---Dataset Null Check---**\"))\n",
    "missing_values = mbd.isnull().sum()\n",
    "print(missing_values)\n",
    "\n",
    "display(Markdown(\"**---Dataset Duplicates Check---**\"))\n",
    "duplicates = mbd.duplicated().sum()\n",
    "duplicates"
   ]
  },
  {
   "cell_type": "code",
   "execution_count": 101,
   "id": "3cf927d8",
   "metadata": {},
   "outputs": [
    {
     "data": {
      "text/markdown": [
       "### Dataset Summary Statistics for Numerical"
      ],
      "text/plain": [
       "<IPython.core.display.Markdown object>"
      ]
     },
     "metadata": {},
     "output_type": "display_data"
    },
    {
     "data": {
      "text/html": [
       "<div>\n",
       "<style scoped>\n",
       "    .dataframe tbody tr th:only-of-type {\n",
       "        vertical-align: middle;\n",
       "    }\n",
       "\n",
       "    .dataframe tbody tr th {\n",
       "        vertical-align: top;\n",
       "    }\n",
       "\n",
       "    .dataframe thead th {\n",
       "        text-align: right;\n",
       "    }\n",
       "</style>\n",
       "<table border=\"1\" class=\"dataframe\">\n",
       "  <thead>\n",
       "    <tr style=\"text-align: right;\">\n",
       "      <th></th>\n",
       "      <th>age</th>\n",
       "      <th>balance</th>\n",
       "      <th>day</th>\n",
       "      <th>duration</th>\n",
       "      <th>campaign</th>\n",
       "      <th>pdays</th>\n",
       "      <th>previous</th>\n",
       "    </tr>\n",
       "  </thead>\n",
       "  <tbody>\n",
       "    <tr>\n",
       "      <th>count</th>\n",
       "      <td>4521.000000</td>\n",
       "      <td>4521.000000</td>\n",
       "      <td>4521.000000</td>\n",
       "      <td>4521.000000</td>\n",
       "      <td>4521.000000</td>\n",
       "      <td>4521.000000</td>\n",
       "      <td>4521.000000</td>\n",
       "    </tr>\n",
       "    <tr>\n",
       "      <th>mean</th>\n",
       "      <td>41.170095</td>\n",
       "      <td>1422.657819</td>\n",
       "      <td>15.915284</td>\n",
       "      <td>263.961292</td>\n",
       "      <td>2.793630</td>\n",
       "      <td>39.766645</td>\n",
       "      <td>0.542579</td>\n",
       "    </tr>\n",
       "    <tr>\n",
       "      <th>std</th>\n",
       "      <td>10.576211</td>\n",
       "      <td>3009.638142</td>\n",
       "      <td>8.247667</td>\n",
       "      <td>259.856633</td>\n",
       "      <td>3.109807</td>\n",
       "      <td>100.121124</td>\n",
       "      <td>1.693562</td>\n",
       "    </tr>\n",
       "    <tr>\n",
       "      <th>min</th>\n",
       "      <td>19.000000</td>\n",
       "      <td>-3313.000000</td>\n",
       "      <td>1.000000</td>\n",
       "      <td>4.000000</td>\n",
       "      <td>1.000000</td>\n",
       "      <td>-1.000000</td>\n",
       "      <td>0.000000</td>\n",
       "    </tr>\n",
       "    <tr>\n",
       "      <th>25%</th>\n",
       "      <td>33.000000</td>\n",
       "      <td>69.000000</td>\n",
       "      <td>9.000000</td>\n",
       "      <td>104.000000</td>\n",
       "      <td>1.000000</td>\n",
       "      <td>-1.000000</td>\n",
       "      <td>0.000000</td>\n",
       "    </tr>\n",
       "    <tr>\n",
       "      <th>50%</th>\n",
       "      <td>39.000000</td>\n",
       "      <td>444.000000</td>\n",
       "      <td>16.000000</td>\n",
       "      <td>185.000000</td>\n",
       "      <td>2.000000</td>\n",
       "      <td>-1.000000</td>\n",
       "      <td>0.000000</td>\n",
       "    </tr>\n",
       "    <tr>\n",
       "      <th>75%</th>\n",
       "      <td>49.000000</td>\n",
       "      <td>1480.000000</td>\n",
       "      <td>21.000000</td>\n",
       "      <td>329.000000</td>\n",
       "      <td>3.000000</td>\n",
       "      <td>-1.000000</td>\n",
       "      <td>0.000000</td>\n",
       "    </tr>\n",
       "    <tr>\n",
       "      <th>max</th>\n",
       "      <td>87.000000</td>\n",
       "      <td>71188.000000</td>\n",
       "      <td>31.000000</td>\n",
       "      <td>3025.000000</td>\n",
       "      <td>50.000000</td>\n",
       "      <td>871.000000</td>\n",
       "      <td>25.000000</td>\n",
       "    </tr>\n",
       "  </tbody>\n",
       "</table>\n",
       "</div>"
      ],
      "text/plain": [
       "               age       balance          day     duration     campaign  \\\n",
       "count  4521.000000   4521.000000  4521.000000  4521.000000  4521.000000   \n",
       "mean     41.170095   1422.657819    15.915284   263.961292     2.793630   \n",
       "std      10.576211   3009.638142     8.247667   259.856633     3.109807   \n",
       "min      19.000000  -3313.000000     1.000000     4.000000     1.000000   \n",
       "25%      33.000000     69.000000     9.000000   104.000000     1.000000   \n",
       "50%      39.000000    444.000000    16.000000   185.000000     2.000000   \n",
       "75%      49.000000   1480.000000    21.000000   329.000000     3.000000   \n",
       "max      87.000000  71188.000000    31.000000  3025.000000    50.000000   \n",
       "\n",
       "             pdays     previous  \n",
       "count  4521.000000  4521.000000  \n",
       "mean     39.766645     0.542579  \n",
       "std     100.121124     1.693562  \n",
       "min      -1.000000     0.000000  \n",
       "25%      -1.000000     0.000000  \n",
       "50%      -1.000000     0.000000  \n",
       "75%      -1.000000     0.000000  \n",
       "max     871.000000    25.000000  "
      ]
     },
     "execution_count": 101,
     "metadata": {},
     "output_type": "execute_result"
    }
   ],
   "source": [
    "display(Markdown(\"### Dataset Summary Statistics for Numerical\"))\n",
    "mbd.describe()"
   ]
  },
  {
   "cell_type": "code",
   "execution_count": 103,
   "id": "b71f3429",
   "metadata": {
    "scrolled": true
   },
   "outputs": [
    {
     "data": {
      "text/markdown": [
       "### Dataset Summary for Categorical"
      ],
      "text/plain": [
       "<IPython.core.display.Markdown object>"
      ]
     },
     "metadata": {},
     "output_type": "display_data"
    },
    {
     "data": {
      "text/html": [
       "<div>\n",
       "<style scoped>\n",
       "    .dataframe tbody tr th:only-of-type {\n",
       "        vertical-align: middle;\n",
       "    }\n",
       "\n",
       "    .dataframe tbody tr th {\n",
       "        vertical-align: top;\n",
       "    }\n",
       "\n",
       "    .dataframe thead th {\n",
       "        text-align: right;\n",
       "    }\n",
       "</style>\n",
       "<table border=\"1\" class=\"dataframe\">\n",
       "  <thead>\n",
       "    <tr style=\"text-align: right;\">\n",
       "      <th></th>\n",
       "      <th>job</th>\n",
       "      <th>marital</th>\n",
       "      <th>education</th>\n",
       "      <th>default</th>\n",
       "      <th>housing</th>\n",
       "      <th>loan</th>\n",
       "      <th>contact</th>\n",
       "      <th>month</th>\n",
       "      <th>poutcome</th>\n",
       "      <th>deposit permission</th>\n",
       "    </tr>\n",
       "  </thead>\n",
       "  <tbody>\n",
       "    <tr>\n",
       "      <th>count</th>\n",
       "      <td>4521</td>\n",
       "      <td>4521</td>\n",
       "      <td>4521</td>\n",
       "      <td>4521</td>\n",
       "      <td>4521</td>\n",
       "      <td>4521</td>\n",
       "      <td>4521</td>\n",
       "      <td>4521</td>\n",
       "      <td>4521</td>\n",
       "      <td>4521</td>\n",
       "    </tr>\n",
       "    <tr>\n",
       "      <th>unique</th>\n",
       "      <td>12</td>\n",
       "      <td>3</td>\n",
       "      <td>4</td>\n",
       "      <td>2</td>\n",
       "      <td>2</td>\n",
       "      <td>2</td>\n",
       "      <td>3</td>\n",
       "      <td>12</td>\n",
       "      <td>4</td>\n",
       "      <td>2</td>\n",
       "    </tr>\n",
       "    <tr>\n",
       "      <th>top</th>\n",
       "      <td>management</td>\n",
       "      <td>married</td>\n",
       "      <td>secondary</td>\n",
       "      <td>no</td>\n",
       "      <td>yes</td>\n",
       "      <td>no</td>\n",
       "      <td>cellular</td>\n",
       "      <td>may</td>\n",
       "      <td>unknown</td>\n",
       "      <td>no</td>\n",
       "    </tr>\n",
       "    <tr>\n",
       "      <th>freq</th>\n",
       "      <td>969</td>\n",
       "      <td>2797</td>\n",
       "      <td>2306</td>\n",
       "      <td>4445</td>\n",
       "      <td>2559</td>\n",
       "      <td>3830</td>\n",
       "      <td>2896</td>\n",
       "      <td>1398</td>\n",
       "      <td>3705</td>\n",
       "      <td>4000</td>\n",
       "    </tr>\n",
       "  </tbody>\n",
       "</table>\n",
       "</div>"
      ],
      "text/plain": [
       "               job  marital  education default housing  loan   contact month  \\\n",
       "count         4521     4521       4521    4521    4521  4521      4521  4521   \n",
       "unique          12        3          4       2       2     2         3    12   \n",
       "top     management  married  secondary      no     yes    no  cellular   may   \n",
       "freq           969     2797       2306    4445    2559  3830      2896  1398   \n",
       "\n",
       "       poutcome deposit permission  \n",
       "count      4521               4521  \n",
       "unique        4                  2  \n",
       "top     unknown                 no  \n",
       "freq       3705               4000  "
      ]
     },
     "execution_count": 103,
     "metadata": {},
     "output_type": "execute_result"
    }
   ],
   "source": [
    "display(Markdown(\"### Dataset Summary for Categorical\"))\n",
    "mbd.describe(include=['object', 'category'])"
   ]
  },
  {
   "cell_type": "code",
   "execution_count": 109,
   "id": "255aef0f",
   "metadata": {},
   "outputs": [
    {
     "data": {
      "text/markdown": [
       "### Detecting Outliers using Z Score Method"
      ],
      "text/plain": [
       "<IPython.core.display.Markdown object>"
      ]
     },
     "metadata": {},
     "output_type": "display_data"
    },
    {
     "data": {
      "text/markdown": [
       "#### Numerical Data Only:"
      ],
      "text/plain": [
       "<IPython.core.display.Markdown object>"
      ]
     },
     "metadata": {},
     "output_type": "display_data"
    },
    {
     "name": "stdout",
     "output_type": "stream",
     "text": [
      "age          44\n",
      "balance      88\n",
      "day           0\n",
      "duration     88\n",
      "campaign     87\n",
      "pdays       171\n",
      "previous     99\n",
      "dtype: int64\n"
     ]
    }
   ],
   "source": [
    "numerical_data = mbd.select_dtypes(include=['int64', 'float64']).columns\n",
    "\n",
    "z_scores = stats.zscore(mbd[numerical_data].dropna())\n",
    "\n",
    "outlier_threshold = 3\n",
    "outliers_z_scores = (z_scores > outlier_threshold) | (z_scores < -outlier_threshold)\n",
    "\n",
    "display(Markdown(\"### Detecting Outliers using Z Score Method\"))\n",
    "display(Markdown(\"#### Numerical Data Only:\"))\n",
    "print(outliers_z_scores.sum())"
   ]
  },
  {
   "cell_type": "code",
   "execution_count": null,
   "id": "45d189f0",
   "metadata": {},
   "outputs": [],
   "source": []
  }
 ],
 "metadata": {
  "kernelspec": {
   "display_name": "Python 3 (ipykernel)",
   "language": "python",
   "name": "python3"
  },
  "language_info": {
   "codemirror_mode": {
    "name": "ipython",
    "version": 3
   },
   "file_extension": ".py",
   "mimetype": "text/x-python",
   "name": "python",
   "nbconvert_exporter": "python",
   "pygments_lexer": "ipython3",
   "version": "3.11.7"
  }
 },
 "nbformat": 4,
 "nbformat_minor": 5
}
